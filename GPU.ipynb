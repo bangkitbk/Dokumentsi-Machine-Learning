{
  "nbformat": 4,
  "nbformat_minor": 0,
  "metadata": {
    "colab": {
      "provenance": []
    },
    "kernelspec": {
      "name": "python3",
      "display_name": "Python 3"
    },
    "language_info": {
      "name": "python"
    }
  },
  "cells": [
    {
      "cell_type": "code",
      "source": [
        "# Install TensorFlow-GPU\n",
        "!pip install tensorflow-gpu"
      ],
      "metadata": {
        "id": "lnacWr51yS6x"
      },
      "execution_count": null,
      "outputs": []
    },
    {
      "cell_type": "code",
      "execution_count": null,
      "metadata": {
        "id": "fqaETmUewoj0"
      },
      "outputs": [],
      "source": [
        "import tensorflow as tf\n",
        "\n",
        "# Check if a GPU is available\n",
        "if tf.test.is_gpu_available():\n",
        "    print('GPU is available.')\n",
        "else:\n",
        "    print('GPU is not available.')\n",
        "\n",
        "# Your deep learning code using GPU\n"
      ]
    },
    {
      "cell_type": "code",
      "source": [
        "# Menampilkan informasi penggunaan GPU\n",
        "!nvidia-smi\n"
      ],
      "metadata": {
        "id": "H26z6btNwsEK"
      },
      "execution_count": null,
      "outputs": []
    }
  ]
}